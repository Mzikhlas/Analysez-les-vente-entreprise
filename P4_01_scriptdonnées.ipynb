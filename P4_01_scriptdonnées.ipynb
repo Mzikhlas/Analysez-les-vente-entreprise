{
 "cells": [
  {
   "cell_type": "markdown",
   "id": "91915518",
   "metadata": {},
   "source": [
    "---------------------------------------------------------------------"
   ]
  },
  {
   "cell_type": "markdown",
   "id": "d69c0e4a",
   "metadata": {},
   "source": [
    "# Analysez les ventes de l'Entreprise \"Rester livres\""
   ]
  },
  {
   "cell_type": "markdown",
   "id": "7ae3272f",
   "metadata": {},
   "source": [
    "Étude d'Analyse de données de vente projet_4 -Ikhlas(Novembre 2021)"
   ]
  },
  {
   "cell_type": "markdown",
   "id": "2a75b597",
   "metadata": {},
   "source": [
    "\n",
    "Je suis Data Analyst d'une grande chaîne de librairie, fraîchement embauché depuis une semaine ! \"Rester livres\" s'est d'abord développée dans une grande ville de France, avec plusieurs magasins, jusqu'à décider d'ouvrir une boutique en ligne. Son approche de la vente de livres en ligne, basée sur des algorithmes de recommandation, lui a valu un franc succès !\n"
   ]
  },
  {
   "cell_type": "code",
   "execution_count": 1,
   "id": "68a4bcac",
   "metadata": {},
   "outputs": [],
   "source": [
    "# system libraries\n",
    "import warnings\n",
    "warnings.filterwarnings('ignore')\n",
    "warnings.simplefilter(action='ignore', category=FutureWarning)\n",
    "\n",
    "\n",
    "#Import des librairies Python\n",
    "\n",
    "import pandas as pd\n",
    "import numpy as np\n",
    "\n",
    "import datetime as dt\n"
   ]
  },
  {
   "cell_type": "markdown",
   "id": "229640fb",
   "metadata": {},
   "source": [
    "Une fois les différents modules importés, on charge les fichiers bruts nécessaires à notre analyse. On dispose d'un jeu de données composé de trois fichiers : un fichier contenant les ventes, nommé transactions, un fichier contenant les informations concernant les clients nommé customers et un fichier contenant les informations les produits vendus se nommant products "
   ]
  },
  {
   "cell_type": "code",
   "execution_count": 2,
   "id": "f383361c",
   "metadata": {},
   "outputs": [],
   "source": [
    "#Import des fichiers csv extraits de la base de données de l'entreprise\n",
    "client = pd.read_csv('customers.csv')#la liste des clients\n",
    "produit = pd.read_csv('products.csv')#la liste des produits\n",
    "transaction = pd.read_csv('transactions.csv')#les ventes (appelées “Transactions”)"
   ]
  },
  {
   "cell_type": "markdown",
   "id": "02e7610e",
   "metadata": {},
   "source": [
    "# Mission_1"
   ]
  },
  {
   "cell_type": "markdown",
   "id": "d9d9311d",
   "metadata": {},
   "source": [
    "# Nettoyage des données"
   ]
  },
  {
   "cell_type": "markdown",
   "id": "dbc5378d",
   "metadata": {},
   "source": [
    "on affiche les premières lignes des fichiers  pour voir leur composition"
   ]
  },
  {
   "cell_type": "code",
   "execution_count": 5,
   "id": "96979772",
   "metadata": {},
   "outputs": [
    {
     "data": {
      "text/html": [
       "<div>\n",
       "<style scoped>\n",
       "    .dataframe tbody tr th:only-of-type {\n",
       "        vertical-align: middle;\n",
       "    }\n",
       "\n",
       "    .dataframe tbody tr th {\n",
       "        vertical-align: top;\n",
       "    }\n",
       "\n",
       "    .dataframe thead th {\n",
       "        text-align: right;\n",
       "    }\n",
       "</style>\n",
       "<table border=\"1\" class=\"dataframe\">\n",
       "  <thead>\n",
       "    <tr style=\"text-align: right;\">\n",
       "      <th></th>\n",
       "      <th>id_prod</th>\n",
       "      <th>date</th>\n",
       "      <th>session_id</th>\n",
       "      <th>client_id</th>\n",
       "    </tr>\n",
       "  </thead>\n",
       "  <tbody>\n",
       "    <tr>\n",
       "      <th>0</th>\n",
       "      <td>0_1483</td>\n",
       "      <td>2021-04-10 18:37:28.723910</td>\n",
       "      <td>s_18746</td>\n",
       "      <td>c_4450</td>\n",
       "    </tr>\n",
       "    <tr>\n",
       "      <th>1</th>\n",
       "      <td>2_226</td>\n",
       "      <td>2022-02-03 01:55:53.276402</td>\n",
       "      <td>s_159142</td>\n",
       "      <td>c_277</td>\n",
       "    </tr>\n",
       "    <tr>\n",
       "      <th>2</th>\n",
       "      <td>1_374</td>\n",
       "      <td>2021-09-23 15:13:46.938559</td>\n",
       "      <td>s_94290</td>\n",
       "      <td>c_4270</td>\n",
       "    </tr>\n",
       "    <tr>\n",
       "      <th>3</th>\n",
       "      <td>0_2186</td>\n",
       "      <td>2021-10-17 03:27:18.783634</td>\n",
       "      <td>s_105936</td>\n",
       "      <td>c_4597</td>\n",
       "    </tr>\n",
       "    <tr>\n",
       "      <th>4</th>\n",
       "      <td>0_1351</td>\n",
       "      <td>2021-07-17 20:34:25.800563</td>\n",
       "      <td>s_63642</td>\n",
       "      <td>c_1242</td>\n",
       "    </tr>\n",
       "  </tbody>\n",
       "</table>\n",
       "</div>"
      ],
      "text/plain": [
       "  id_prod                        date session_id client_id\n",
       "0  0_1483  2021-04-10 18:37:28.723910    s_18746    c_4450\n",
       "1   2_226  2022-02-03 01:55:53.276402   s_159142     c_277\n",
       "2   1_374  2021-09-23 15:13:46.938559    s_94290    c_4270\n",
       "3  0_2186  2021-10-17 03:27:18.783634   s_105936    c_4597\n",
       "4  0_1351  2021-07-17 20:34:25.800563    s_63642    c_1242"
      ]
     },
     "execution_count": 5,
     "metadata": {},
     "output_type": "execute_result"
    }
   ],
   "source": [
    "transaction.head()"
   ]
  },
  {
   "cell_type": "code",
   "execution_count": 6,
   "id": "4150fa9b",
   "metadata": {},
   "outputs": [
    {
     "data": {
      "text/html": [
       "<div>\n",
       "<style scoped>\n",
       "    .dataframe tbody tr th:only-of-type {\n",
       "        vertical-align: middle;\n",
       "    }\n",
       "\n",
       "    .dataframe tbody tr th {\n",
       "        vertical-align: top;\n",
       "    }\n",
       "\n",
       "    .dataframe thead th {\n",
       "        text-align: right;\n",
       "    }\n",
       "</style>\n",
       "<table border=\"1\" class=\"dataframe\">\n",
       "  <thead>\n",
       "    <tr style=\"text-align: right;\">\n",
       "      <th></th>\n",
       "      <th>id_prod</th>\n",
       "      <th>price</th>\n",
       "      <th>categ</th>\n",
       "    </tr>\n",
       "  </thead>\n",
       "  <tbody>\n",
       "    <tr>\n",
       "      <th>0</th>\n",
       "      <td>0_1421</td>\n",
       "      <td>19.99</td>\n",
       "      <td>0</td>\n",
       "    </tr>\n",
       "    <tr>\n",
       "      <th>1</th>\n",
       "      <td>0_1368</td>\n",
       "      <td>5.13</td>\n",
       "      <td>0</td>\n",
       "    </tr>\n",
       "    <tr>\n",
       "      <th>2</th>\n",
       "      <td>0_731</td>\n",
       "      <td>17.99</td>\n",
       "      <td>0</td>\n",
       "    </tr>\n",
       "    <tr>\n",
       "      <th>3</th>\n",
       "      <td>1_587</td>\n",
       "      <td>4.99</td>\n",
       "      <td>1</td>\n",
       "    </tr>\n",
       "    <tr>\n",
       "      <th>4</th>\n",
       "      <td>0_1507</td>\n",
       "      <td>3.99</td>\n",
       "      <td>0</td>\n",
       "    </tr>\n",
       "  </tbody>\n",
       "</table>\n",
       "</div>"
      ],
      "text/plain": [
       "  id_prod  price  categ\n",
       "0  0_1421  19.99      0\n",
       "1  0_1368   5.13      0\n",
       "2   0_731  17.99      0\n",
       "3   1_587   4.99      1\n",
       "4  0_1507   3.99      0"
      ]
     },
     "execution_count": 6,
     "metadata": {},
     "output_type": "execute_result"
    }
   ],
   "source": [
    "produit.head()"
   ]
  },
  {
   "cell_type": "code",
   "execution_count": 7,
   "id": "ec26fcb1",
   "metadata": {},
   "outputs": [
    {
     "data": {
      "text/html": [
       "<div>\n",
       "<style scoped>\n",
       "    .dataframe tbody tr th:only-of-type {\n",
       "        vertical-align: middle;\n",
       "    }\n",
       "\n",
       "    .dataframe tbody tr th {\n",
       "        vertical-align: top;\n",
       "    }\n",
       "\n",
       "    .dataframe thead th {\n",
       "        text-align: right;\n",
       "    }\n",
       "</style>\n",
       "<table border=\"1\" class=\"dataframe\">\n",
       "  <thead>\n",
       "    <tr style=\"text-align: right;\">\n",
       "      <th></th>\n",
       "      <th>client_id</th>\n",
       "      <th>sex</th>\n",
       "      <th>birth</th>\n",
       "    </tr>\n",
       "  </thead>\n",
       "  <tbody>\n",
       "    <tr>\n",
       "      <th>0</th>\n",
       "      <td>c_4410</td>\n",
       "      <td>f</td>\n",
       "      <td>1967</td>\n",
       "    </tr>\n",
       "    <tr>\n",
       "      <th>1</th>\n",
       "      <td>c_7839</td>\n",
       "      <td>f</td>\n",
       "      <td>1975</td>\n",
       "    </tr>\n",
       "    <tr>\n",
       "      <th>2</th>\n",
       "      <td>c_1699</td>\n",
       "      <td>f</td>\n",
       "      <td>1984</td>\n",
       "    </tr>\n",
       "    <tr>\n",
       "      <th>3</th>\n",
       "      <td>c_5961</td>\n",
       "      <td>f</td>\n",
       "      <td>1962</td>\n",
       "    </tr>\n",
       "    <tr>\n",
       "      <th>4</th>\n",
       "      <td>c_5320</td>\n",
       "      <td>m</td>\n",
       "      <td>1943</td>\n",
       "    </tr>\n",
       "  </tbody>\n",
       "</table>\n",
       "</div>"
      ],
      "text/plain": [
       "  client_id sex  birth\n",
       "0    c_4410   f   1967\n",
       "1    c_7839   f   1975\n",
       "2    c_1699   f   1984\n",
       "3    c_5961   f   1962\n",
       "4    c_5320   m   1943"
      ]
     },
     "execution_count": 7,
     "metadata": {},
     "output_type": "execute_result"
    }
   ],
   "source": [
    "client.head()"
   ]
  },
  {
   "cell_type": "code",
   "execution_count": 8,
   "id": "add56267",
   "metadata": {},
   "outputs": [
    {
     "data": {
      "text/html": [
       "<div>\n",
       "<style scoped>\n",
       "    .dataframe tbody tr th:only-of-type {\n",
       "        vertical-align: middle;\n",
       "    }\n",
       "\n",
       "    .dataframe tbody tr th {\n",
       "        vertical-align: top;\n",
       "    }\n",
       "\n",
       "    .dataframe thead th {\n",
       "        text-align: right;\n",
       "    }\n",
       "</style>\n",
       "<table border=\"1\" class=\"dataframe\">\n",
       "  <thead>\n",
       "    <tr style=\"text-align: right;\">\n",
       "      <th></th>\n",
       "      <th>id_prod</th>\n",
       "      <th>price</th>\n",
       "      <th>categ</th>\n",
       "      <th>date</th>\n",
       "      <th>session_id</th>\n",
       "      <th>client_id</th>\n",
       "    </tr>\n",
       "  </thead>\n",
       "  <tbody>\n",
       "    <tr>\n",
       "      <th>0</th>\n",
       "      <td>0_1421</td>\n",
       "      <td>19.99</td>\n",
       "      <td>0</td>\n",
       "      <td>2021-05-12 23:26:29.885083</td>\n",
       "      <td>s_33709</td>\n",
       "      <td>c_7954</td>\n",
       "    </tr>\n",
       "    <tr>\n",
       "      <th>1</th>\n",
       "      <td>0_1421</td>\n",
       "      <td>19.99</td>\n",
       "      <td>0</td>\n",
       "      <td>2022-01-25 11:27:39.357012</td>\n",
       "      <td>s_154957</td>\n",
       "      <td>c_254</td>\n",
       "    </tr>\n",
       "    <tr>\n",
       "      <th>2</th>\n",
       "      <td>0_1421</td>\n",
       "      <td>19.99</td>\n",
       "      <td>0</td>\n",
       "      <td>2022-01-02 22:29:33.796003</td>\n",
       "      <td>s_144068</td>\n",
       "      <td>c_5770</td>\n",
       "    </tr>\n",
       "    <tr>\n",
       "      <th>3</th>\n",
       "      <td>0_1421</td>\n",
       "      <td>19.99</td>\n",
       "      <td>0</td>\n",
       "      <td>2021-03-05 17:10:40.265676</td>\n",
       "      <td>s_2187</td>\n",
       "      <td>c_1455</td>\n",
       "    </tr>\n",
       "    <tr>\n",
       "      <th>4</th>\n",
       "      <td>0_1421</td>\n",
       "      <td>19.99</td>\n",
       "      <td>0</td>\n",
       "      <td>2021-03-29 13:55:04.422637</td>\n",
       "      <td>s_13112</td>\n",
       "      <td>c_2768</td>\n",
       "    </tr>\n",
       "    <tr>\n",
       "      <th>...</th>\n",
       "      <td>...</td>\n",
       "      <td>...</td>\n",
       "      <td>...</td>\n",
       "      <td>...</td>\n",
       "      <td>...</td>\n",
       "      <td>...</td>\n",
       "    </tr>\n",
       "    <tr>\n",
       "      <th>336908</th>\n",
       "      <td>1_140</td>\n",
       "      <td>38.56</td>\n",
       "      <td>1</td>\n",
       "      <td>2021-03-30 11:10:45.544437</td>\n",
       "      <td>s_13465</td>\n",
       "      <td>c_974</td>\n",
       "    </tr>\n",
       "    <tr>\n",
       "      <th>336909</th>\n",
       "      <td>1_140</td>\n",
       "      <td>38.56</td>\n",
       "      <td>1</td>\n",
       "      <td>2021-12-25 06:33:13.259886</td>\n",
       "      <td>s_139663</td>\n",
       "      <td>c_4766</td>\n",
       "    </tr>\n",
       "    <tr>\n",
       "      <th>336910</th>\n",
       "      <td>1_140</td>\n",
       "      <td>38.56</td>\n",
       "      <td>1</td>\n",
       "      <td>2022-01-01 02:58:25.933977</td>\n",
       "      <td>s_143171</td>\n",
       "      <td>c_6279</td>\n",
       "    </tr>\n",
       "    <tr>\n",
       "      <th>336911</th>\n",
       "      <td>0_1920</td>\n",
       "      <td>25.16</td>\n",
       "      <td>0</td>\n",
       "      <td>2021-04-13 18:36:10.252971</td>\n",
       "      <td>s_20115</td>\n",
       "      <td>c_7088</td>\n",
       "    </tr>\n",
       "    <tr>\n",
       "      <th>336912</th>\n",
       "      <td>0_1920</td>\n",
       "      <td>25.16</td>\n",
       "      <td>0</td>\n",
       "      <td>2021-05-30 02:37:22.371278</td>\n",
       "      <td>s_41465</td>\n",
       "      <td>c_7748</td>\n",
       "    </tr>\n",
       "  </tbody>\n",
       "</table>\n",
       "<p>336913 rows × 6 columns</p>\n",
       "</div>"
      ],
      "text/plain": [
       "       id_prod  price  categ                        date session_id client_id\n",
       "0       0_1421  19.99      0  2021-05-12 23:26:29.885083    s_33709    c_7954\n",
       "1       0_1421  19.99      0  2022-01-25 11:27:39.357012   s_154957     c_254\n",
       "2       0_1421  19.99      0  2022-01-02 22:29:33.796003   s_144068    c_5770\n",
       "3       0_1421  19.99      0  2021-03-05 17:10:40.265676     s_2187    c_1455\n",
       "4       0_1421  19.99      0  2021-03-29 13:55:04.422637    s_13112    c_2768\n",
       "...        ...    ...    ...                         ...        ...       ...\n",
       "336908   1_140  38.56      1  2021-03-30 11:10:45.544437    s_13465     c_974\n",
       "336909   1_140  38.56      1  2021-12-25 06:33:13.259886   s_139663    c_4766\n",
       "336910   1_140  38.56      1  2022-01-01 02:58:25.933977   s_143171    c_6279\n",
       "336911  0_1920  25.16      0  2021-04-13 18:36:10.252971    s_20115    c_7088\n",
       "336912  0_1920  25.16      0  2021-05-30 02:37:22.371278    s_41465    c_7748\n",
       "\n",
       "[336913 rows x 6 columns]"
      ]
     },
     "execution_count": 8,
     "metadata": {},
     "output_type": "execute_result"
    }
   ],
   "source": [
    "# merger les 2 tableaux: produit & transaction \n",
    "df_transactions_products = pd.merge(produit, transaction, left_on='id_prod', right_on='id_prod')\n",
    "df_transactions_products"
   ]
  },
  {
   "cell_type": "code",
   "execution_count": 10,
   "id": "4e768460",
   "metadata": {},
   "outputs": [
    {
     "data": {
      "text/html": [
       "<div>\n",
       "<style scoped>\n",
       "    .dataframe tbody tr th:only-of-type {\n",
       "        vertical-align: middle;\n",
       "    }\n",
       "\n",
       "    .dataframe tbody tr th {\n",
       "        vertical-align: top;\n",
       "    }\n",
       "\n",
       "    .dataframe thead th {\n",
       "        text-align: right;\n",
       "    }\n",
       "</style>\n",
       "<table border=\"1\" class=\"dataframe\">\n",
       "  <thead>\n",
       "    <tr style=\"text-align: right;\">\n",
       "      <th></th>\n",
       "      <th>client_id</th>\n",
       "      <th>sex</th>\n",
       "      <th>birth</th>\n",
       "      <th>id_prod</th>\n",
       "      <th>price</th>\n",
       "      <th>categ</th>\n",
       "      <th>date</th>\n",
       "      <th>session_id</th>\n",
       "    </tr>\n",
       "  </thead>\n",
       "  <tbody>\n",
       "    <tr>\n",
       "      <th>0</th>\n",
       "      <td>c_4410</td>\n",
       "      <td>f</td>\n",
       "      <td>1967</td>\n",
       "      <td>1_385</td>\n",
       "      <td>25.99</td>\n",
       "      <td>1</td>\n",
       "      <td>2021-03-22 01:40:22.782925</td>\n",
       "      <td>s_9707</td>\n",
       "    </tr>\n",
       "    <tr>\n",
       "      <th>1</th>\n",
       "      <td>c_4410</td>\n",
       "      <td>f</td>\n",
       "      <td>1967</td>\n",
       "      <td>0_1110</td>\n",
       "      <td>4.71</td>\n",
       "      <td>0</td>\n",
       "      <td>2021-11-04 16:28:30.169021</td>\n",
       "      <td>s_114715</td>\n",
       "    </tr>\n",
       "    <tr>\n",
       "      <th>2</th>\n",
       "      <td>c_4410</td>\n",
       "      <td>f</td>\n",
       "      <td>1967</td>\n",
       "      <td>0_1111</td>\n",
       "      <td>19.99</td>\n",
       "      <td>0</td>\n",
       "      <td>2021-03-22 01:27:49.480137</td>\n",
       "      <td>s_9707</td>\n",
       "    </tr>\n",
       "    <tr>\n",
       "      <th>3</th>\n",
       "      <td>c_4410</td>\n",
       "      <td>f</td>\n",
       "      <td>1967</td>\n",
       "      <td>1_461</td>\n",
       "      <td>12.99</td>\n",
       "      <td>1</td>\n",
       "      <td>2021-08-11 08:40:47.495793</td>\n",
       "      <td>s_74236</td>\n",
       "    </tr>\n",
       "    <tr>\n",
       "      <th>4</th>\n",
       "      <td>c_4410</td>\n",
       "      <td>f</td>\n",
       "      <td>1967</td>\n",
       "      <td>1_536</td>\n",
       "      <td>11.21</td>\n",
       "      <td>1</td>\n",
       "      <td>2022-01-18 17:05:07.468131</td>\n",
       "      <td>s_151740</td>\n",
       "    </tr>\n",
       "    <tr>\n",
       "      <th>...</th>\n",
       "      <td>...</td>\n",
       "      <td>...</td>\n",
       "      <td>...</td>\n",
       "      <td>...</td>\n",
       "      <td>...</td>\n",
       "      <td>...</td>\n",
       "      <td>...</td>\n",
       "      <td>...</td>\n",
       "    </tr>\n",
       "    <tr>\n",
       "      <th>336908</th>\n",
       "      <td>c_84</td>\n",
       "      <td>f</td>\n",
       "      <td>1982</td>\n",
       "      <td>0_1452</td>\n",
       "      <td>13.77</td>\n",
       "      <td>0</td>\n",
       "      <td>2021-09-20 10:11:35.510099</td>\n",
       "      <td>s_92701</td>\n",
       "    </tr>\n",
       "    <tr>\n",
       "      <th>336909</th>\n",
       "      <td>c_84</td>\n",
       "      <td>f</td>\n",
       "      <td>1982</td>\n",
       "      <td>1_158</td>\n",
       "      <td>22.17</td>\n",
       "      <td>1</td>\n",
       "      <td>2021-10-01 16:11:20.841361</td>\n",
       "      <td>s_98493</td>\n",
       "    </tr>\n",
       "    <tr>\n",
       "      <th>336910</th>\n",
       "      <td>c_84</td>\n",
       "      <td>f</td>\n",
       "      <td>1982</td>\n",
       "      <td>0_1438</td>\n",
       "      <td>9.31</td>\n",
       "      <td>0</td>\n",
       "      <td>2021-12-29 06:11:50.316631</td>\n",
       "      <td>s_141701</td>\n",
       "    </tr>\n",
       "    <tr>\n",
       "      <th>336911</th>\n",
       "      <td>c_84</td>\n",
       "      <td>f</td>\n",
       "      <td>1982</td>\n",
       "      <td>1_459</td>\n",
       "      <td>15.99</td>\n",
       "      <td>1</td>\n",
       "      <td>2022-02-17 00:16:56.629536</td>\n",
       "      <td>s_166337</td>\n",
       "    </tr>\n",
       "    <tr>\n",
       "      <th>336912</th>\n",
       "      <td>c_84</td>\n",
       "      <td>f</td>\n",
       "      <td>1982</td>\n",
       "      <td>1_110</td>\n",
       "      <td>54.90</td>\n",
       "      <td>1</td>\n",
       "      <td>2021-09-13 21:39:46.845376</td>\n",
       "      <td>s_89478</td>\n",
       "    </tr>\n",
       "  </tbody>\n",
       "</table>\n",
       "<p>336913 rows × 8 columns</p>\n",
       "</div>"
      ],
      "text/plain": [
       "       client_id sex  birth id_prod  price  categ                        date  \\\n",
       "0         c_4410   f   1967   1_385  25.99      1  2021-03-22 01:40:22.782925   \n",
       "1         c_4410   f   1967  0_1110   4.71      0  2021-11-04 16:28:30.169021   \n",
       "2         c_4410   f   1967  0_1111  19.99      0  2021-03-22 01:27:49.480137   \n",
       "3         c_4410   f   1967   1_461  12.99      1  2021-08-11 08:40:47.495793   \n",
       "4         c_4410   f   1967   1_536  11.21      1  2022-01-18 17:05:07.468131   \n",
       "...          ...  ..    ...     ...    ...    ...                         ...   \n",
       "336908      c_84   f   1982  0_1452  13.77      0  2021-09-20 10:11:35.510099   \n",
       "336909      c_84   f   1982   1_158  22.17      1  2021-10-01 16:11:20.841361   \n",
       "336910      c_84   f   1982  0_1438   9.31      0  2021-12-29 06:11:50.316631   \n",
       "336911      c_84   f   1982   1_459  15.99      1  2022-02-17 00:16:56.629536   \n",
       "336912      c_84   f   1982   1_110  54.90      1  2021-09-13 21:39:46.845376   \n",
       "\n",
       "       session_id  \n",
       "0          s_9707  \n",
       "1        s_114715  \n",
       "2          s_9707  \n",
       "3         s_74236  \n",
       "4        s_151740  \n",
       "...           ...  \n",
       "336908    s_92701  \n",
       "336909    s_98493  \n",
       "336910   s_141701  \n",
       "336911   s_166337  \n",
       "336912    s_89478  \n",
       "\n",
       "[336913 rows x 8 columns]"
      ]
     },
     "execution_count": 10,
     "metadata": {},
     "output_type": "execute_result"
    }
   ],
   "source": [
    "# merger les 2 tableaux: produit & transaction et client\n",
    "df_transactions_products_client= pd.merge(client,df_transactions_products, left_on='client_id', right_on='client_id')\n",
    "df_transactions_products_client"
   ]
  },
  {
   "cell_type": "code",
   "execution_count": 14,
   "id": "a4df2870",
   "metadata": {},
   "outputs": [
    {
     "data": {
      "text/plain": [
       "array([25.99,  4.71, 19.99, ..., 20.26, 31.98, 21.82])"
      ]
     },
     "execution_count": 14,
     "metadata": {},
     "output_type": "execute_result"
    }
   ],
   "source": [
    "#Analyse des modalités de la variable 'price' \n",
    "#Fonction .unique() permet de les afficher\n",
    "df_transactions_products_client['price'].unique()"
   ]
  },
  {
   "cell_type": "code",
   "execution_count": 15,
   "id": "6828721b",
   "metadata": {},
   "outputs": [
    {
     "data": {
      "text/plain": [
       "id_prod\n",
       "0_0         [3.75]\n",
       "0_1        [10.99]\n",
       "0_10       [17.95]\n",
       "0_100       [20.6]\n",
       "0_1000      [6.84]\n",
       "            ...   \n",
       "2_96       [47.91]\n",
       "2_97      [160.99]\n",
       "2_98      [149.74]\n",
       "2_99       [84.99]\n",
       "T_0         [-1.0]\n",
       "Name: price, Length: 3265, dtype: object"
      ]
     },
     "execution_count": 15,
     "metadata": {},
     "output_type": "execute_result"
    }
   ],
   "source": [
    "#regroupement de données price par rapport id_prod\n",
    "df_transactions_products_client.groupby('id_prod')['price'].unique()"
   ]
  },
  {
   "cell_type": "code",
   "execution_count": 16,
   "id": "2da790c3",
   "metadata": {},
   "outputs": [
    {
     "data": {
      "text/plain": [
       "session_id\n",
       "s_0                             [-1.0]\n",
       "s_1                            [11.99]\n",
       "s_10                           [26.99]\n",
       "s_100                   [13.73, 19.99]\n",
       "s_1000       [18.93, 4.99, 9.31, 5.99]\n",
       "                      ...             \n",
       "s_99994            [5.48, 13.99, 9.45]\n",
       "s_99995                        [19.84]\n",
       "s_99996    [13.99, 18.99, 11.99, 11.3]\n",
       "s_99997                         [6.99]\n",
       "s_99998            [8.99, 8.61, 17.51]\n",
       "Name: price, Length: 169174, dtype: object"
      ]
     },
     "execution_count": 16,
     "metadata": {},
     "output_type": "execute_result"
    }
   ],
   "source": [
    "#regroupement de données price par rapport session_id\n",
    "df_transactions_products_client.groupby('session_id')['price'].unique()"
   ]
  },
  {
   "cell_type": "markdown",
   "id": "a6a901ae",
   "metadata": {},
   "source": [
    "## Analyse des données manquantes"
   ]
  },
  {
   "cell_type": "code",
   "execution_count": 17,
   "id": "71c0fec1",
   "metadata": {},
   "outputs": [
    {
     "data": {
      "text/plain": [
       "client_id     0\n",
       "sex           0\n",
       "birth         0\n",
       "id_prod       0\n",
       "price         0\n",
       "categ         0\n",
       "date          0\n",
       "session_id    0\n",
       "dtype: int64"
      ]
     },
     "execution_count": 17,
     "metadata": {},
     "output_type": "execute_result"
    }
   ],
   "source": [
    "# Dénombrement des valeurs manquantes\n",
    "df_transactions_products_client.isna().sum()"
   ]
  },
  {
   "cell_type": "markdown",
   "id": "f820427d",
   "metadata": {},
   "source": [
    "Le fichier  ne présentent pas de données manquantes"
   ]
  },
  {
   "cell_type": "markdown",
   "id": "751b70d3",
   "metadata": {},
   "source": [
    "## Analyse des données dupliquées"
   ]
  },
  {
   "cell_type": "code",
   "execution_count": 18,
   "id": "c1162c8b",
   "metadata": {},
   "outputs": [
    {
     "data": {
      "text/plain": [
       "328311"
      ]
     },
     "execution_count": 18,
     "metadata": {},
     "output_type": "execute_result"
    }
   ],
   "source": [
    "df_transactions_products_client.duplicated('client_id').sum()"
   ]
  },
  {
   "cell_type": "markdown",
   "id": "e19bb590",
   "metadata": {},
   "source": [
    "On crée une variable qui contient les données dupliquées. Ensuite, on affiche les données dupliquées du DataFrame."
   ]
  },
  {
   "cell_type": "code",
   "execution_count": 19,
   "id": "58cd5525",
   "metadata": {},
   "outputs": [],
   "source": [
    "# création d'une variable contenant les informations dupliquées\n",
    "df2 = df_transactions_products_client[df_transactions_products_client.duplicated()]\n"
   ]
  },
  {
   "cell_type": "code",
   "execution_count": 20,
   "id": "39c9bdc1",
   "metadata": {},
   "outputs": [
    {
     "data": {
      "text/html": [
       "<div>\n",
       "<style scoped>\n",
       "    .dataframe tbody tr th:only-of-type {\n",
       "        vertical-align: middle;\n",
       "    }\n",
       "\n",
       "    .dataframe tbody tr th {\n",
       "        vertical-align: top;\n",
       "    }\n",
       "\n",
       "    .dataframe thead th {\n",
       "        text-align: right;\n",
       "    }\n",
       "</style>\n",
       "<table border=\"1\" class=\"dataframe\">\n",
       "  <thead>\n",
       "    <tr style=\"text-align: right;\">\n",
       "      <th></th>\n",
       "      <th>client_id</th>\n",
       "      <th>sex</th>\n",
       "      <th>birth</th>\n",
       "      <th>id_prod</th>\n",
       "      <th>price</th>\n",
       "      <th>categ</th>\n",
       "      <th>date</th>\n",
       "      <th>session_id</th>\n",
       "    </tr>\n",
       "  </thead>\n",
       "  <tbody>\n",
       "    <tr>\n",
       "      <th>108163</th>\n",
       "      <td>ct_0</td>\n",
       "      <td>f</td>\n",
       "      <td>2001</td>\n",
       "      <td>T_0</td>\n",
       "      <td>-1.0</td>\n",
       "      <td>0</td>\n",
       "      <td>test_2021-03-01 02:30:02.237443</td>\n",
       "      <td>s_0</td>\n",
       "    </tr>\n",
       "    <tr>\n",
       "      <th>108170</th>\n",
       "      <td>ct_0</td>\n",
       "      <td>f</td>\n",
       "      <td>2001</td>\n",
       "      <td>T_0</td>\n",
       "      <td>-1.0</td>\n",
       "      <td>0</td>\n",
       "      <td>test_2021-03-01 02:30:02.237429</td>\n",
       "      <td>s_0</td>\n",
       "    </tr>\n",
       "    <tr>\n",
       "      <th>108173</th>\n",
       "      <td>ct_0</td>\n",
       "      <td>f</td>\n",
       "      <td>2001</td>\n",
       "      <td>T_0</td>\n",
       "      <td>-1.0</td>\n",
       "      <td>0</td>\n",
       "      <td>test_2021-03-01 02:30:02.237446</td>\n",
       "      <td>s_0</td>\n",
       "    </tr>\n",
       "    <tr>\n",
       "      <th>108174</th>\n",
       "      <td>ct_0</td>\n",
       "      <td>f</td>\n",
       "      <td>2001</td>\n",
       "      <td>T_0</td>\n",
       "      <td>-1.0</td>\n",
       "      <td>0</td>\n",
       "      <td>test_2021-03-01 02:30:02.237446</td>\n",
       "      <td>s_0</td>\n",
       "    </tr>\n",
       "    <tr>\n",
       "      <th>108177</th>\n",
       "      <td>ct_0</td>\n",
       "      <td>f</td>\n",
       "      <td>2001</td>\n",
       "      <td>T_0</td>\n",
       "      <td>-1.0</td>\n",
       "      <td>0</td>\n",
       "      <td>test_2021-03-01 02:30:02.237442</td>\n",
       "      <td>s_0</td>\n",
       "    </tr>\n",
       "    <tr>\n",
       "      <th>...</th>\n",
       "      <td>...</td>\n",
       "      <td>...</td>\n",
       "      <td>...</td>\n",
       "      <td>...</td>\n",
       "      <td>...</td>\n",
       "      <td>...</td>\n",
       "      <td>...</td>\n",
       "      <td>...</td>\n",
       "    </tr>\n",
       "    <tr>\n",
       "      <th>332677</th>\n",
       "      <td>ct_1</td>\n",
       "      <td>m</td>\n",
       "      <td>2001</td>\n",
       "      <td>T_0</td>\n",
       "      <td>-1.0</td>\n",
       "      <td>0</td>\n",
       "      <td>test_2021-03-01 02:30:02.237416</td>\n",
       "      <td>s_0</td>\n",
       "    </tr>\n",
       "    <tr>\n",
       "      <th>332678</th>\n",
       "      <td>ct_1</td>\n",
       "      <td>m</td>\n",
       "      <td>2001</td>\n",
       "      <td>T_0</td>\n",
       "      <td>-1.0</td>\n",
       "      <td>0</td>\n",
       "      <td>test_2021-03-01 02:30:02.237425</td>\n",
       "      <td>s_0</td>\n",
       "    </tr>\n",
       "    <tr>\n",
       "      <th>332679</th>\n",
       "      <td>ct_1</td>\n",
       "      <td>m</td>\n",
       "      <td>2001</td>\n",
       "      <td>T_0</td>\n",
       "      <td>-1.0</td>\n",
       "      <td>0</td>\n",
       "      <td>test_2021-03-01 02:30:02.237423</td>\n",
       "      <td>s_0</td>\n",
       "    </tr>\n",
       "    <tr>\n",
       "      <th>332680</th>\n",
       "      <td>ct_1</td>\n",
       "      <td>m</td>\n",
       "      <td>2001</td>\n",
       "      <td>T_0</td>\n",
       "      <td>-1.0</td>\n",
       "      <td>0</td>\n",
       "      <td>test_2021-03-01 02:30:02.237421</td>\n",
       "      <td>s_0</td>\n",
       "    </tr>\n",
       "    <tr>\n",
       "      <th>332681</th>\n",
       "      <td>ct_1</td>\n",
       "      <td>m</td>\n",
       "      <td>2001</td>\n",
       "      <td>T_0</td>\n",
       "      <td>-1.0</td>\n",
       "      <td>0</td>\n",
       "      <td>test_2021-03-01 02:30:02.237431</td>\n",
       "      <td>s_0</td>\n",
       "    </tr>\n",
       "  </tbody>\n",
       "</table>\n",
       "<p>126 rows × 8 columns</p>\n",
       "</div>"
      ],
      "text/plain": [
       "       client_id sex  birth id_prod  price  categ  \\\n",
       "108163      ct_0   f   2001     T_0   -1.0      0   \n",
       "108170      ct_0   f   2001     T_0   -1.0      0   \n",
       "108173      ct_0   f   2001     T_0   -1.0      0   \n",
       "108174      ct_0   f   2001     T_0   -1.0      0   \n",
       "108177      ct_0   f   2001     T_0   -1.0      0   \n",
       "...          ...  ..    ...     ...    ...    ...   \n",
       "332677      ct_1   m   2001     T_0   -1.0      0   \n",
       "332678      ct_1   m   2001     T_0   -1.0      0   \n",
       "332679      ct_1   m   2001     T_0   -1.0      0   \n",
       "332680      ct_1   m   2001     T_0   -1.0      0   \n",
       "332681      ct_1   m   2001     T_0   -1.0      0   \n",
       "\n",
       "                                   date session_id  \n",
       "108163  test_2021-03-01 02:30:02.237443        s_0  \n",
       "108170  test_2021-03-01 02:30:02.237429        s_0  \n",
       "108173  test_2021-03-01 02:30:02.237446        s_0  \n",
       "108174  test_2021-03-01 02:30:02.237446        s_0  \n",
       "108177  test_2021-03-01 02:30:02.237442        s_0  \n",
       "...                                 ...        ...  \n",
       "332677  test_2021-03-01 02:30:02.237416        s_0  \n",
       "332678  test_2021-03-01 02:30:02.237425        s_0  \n",
       "332679  test_2021-03-01 02:30:02.237423        s_0  \n",
       "332680  test_2021-03-01 02:30:02.237421        s_0  \n",
       "332681  test_2021-03-01 02:30:02.237431        s_0  \n",
       "\n",
       "[126 rows x 8 columns]"
      ]
     },
     "execution_count": 20,
     "metadata": {},
     "output_type": "execute_result"
    }
   ],
   "source": [
    "df2"
   ]
  },
  {
   "cell_type": "markdown",
   "id": "ec0068e2",
   "metadata": {},
   "source": [
    "On observe la présence de 126 lignes correspondant à des sessions de tests. Il faudra donc les supprimer du fichier. \n",
    "\n",
    "On supprime donc les valeurs dupliquées correspondant aux sessions test du 1er mars 2021."
   ]
  },
  {
   "cell_type": "code",
   "execution_count": 21,
   "id": "0110ebbc",
   "metadata": {},
   "outputs": [
    {
     "data": {
      "text/html": [
       "<div>\n",
       "<style scoped>\n",
       "    .dataframe tbody tr th:only-of-type {\n",
       "        vertical-align: middle;\n",
       "    }\n",
       "\n",
       "    .dataframe tbody tr th {\n",
       "        vertical-align: top;\n",
       "    }\n",
       "\n",
       "    .dataframe thead th {\n",
       "        text-align: right;\n",
       "    }\n",
       "</style>\n",
       "<table border=\"1\" class=\"dataframe\">\n",
       "  <thead>\n",
       "    <tr style=\"text-align: right;\">\n",
       "      <th></th>\n",
       "      <th>client_id</th>\n",
       "      <th>sex</th>\n",
       "      <th>birth</th>\n",
       "      <th>id_prod</th>\n",
       "      <th>price</th>\n",
       "      <th>categ</th>\n",
       "      <th>date</th>\n",
       "      <th>session_id</th>\n",
       "    </tr>\n",
       "  </thead>\n",
       "  <tbody>\n",
       "  </tbody>\n",
       "</table>\n",
       "</div>"
      ],
      "text/plain": [
       "Empty DataFrame\n",
       "Columns: [client_id, sex, birth, id_prod, price, categ, date, session_id]\n",
       "Index: []"
      ]
     },
     "execution_count": 21,
     "metadata": {},
     "output_type": "execute_result"
    }
   ],
   "source": [
    "df_transactions_products_client = df_transactions_products_client.drop_duplicates()\n",
    "df_transactions_products_client[df_transactions_products_client.duplicated()]"
   ]
  },
  {
   "cell_type": "markdown",
   "id": "1ebd3553",
   "metadata": {},
   "source": [
    "Les valeurs dupliquées sont donc supprimées mais il reste encore des données de session test avec l'identifiant s_0. On va donc supprimer ces valeurs pour pouvoir faire son analyse."
   ]
  },
  {
   "cell_type": "code",
   "execution_count": 22,
   "id": "b2e581ca",
   "metadata": {},
   "outputs": [
    {
     "name": "stdout",
     "output_type": "stream",
     "text": [
      "['T_0']\n"
     ]
    }
   ],
   "source": [
    "print(df2['id_prod'].unique())"
   ]
  },
  {
   "cell_type": "code",
   "execution_count": 23,
   "id": "9ea586ae",
   "metadata": {},
   "outputs": [
    {
     "name": "stdout",
     "output_type": "stream",
     "text": [
      "['ct_0' 'ct_1']\n"
     ]
    }
   ],
   "source": [
    "print(df2['client_id'].unique())"
   ]
  },
  {
   "cell_type": "code",
   "execution_count": 24,
   "id": "ca425a0c",
   "metadata": {},
   "outputs": [
    {
     "name": "stdout",
     "output_type": "stream",
     "text": [
      "['test_2021-03-01 02:30:02.237443' 'test_2021-03-01 02:30:02.237429'\n",
      " 'test_2021-03-01 02:30:02.237446' 'test_2021-03-01 02:30:02.237442'\n",
      " 'test_2021-03-01 02:30:02.237436' 'test_2021-03-01 02:30:02.237413'\n",
      " 'test_2021-03-01 02:30:02.237435' 'test_2021-03-01 02:30:02.237424'\n",
      " 'test_2021-03-01 02:30:02.237428' 'test_2021-03-01 02:30:02.237419'\n",
      " 'test_2021-03-01 02:30:02.237437' 'test_2021-03-01 02:30:02.237441'\n",
      " 'test_2021-03-01 02:30:02.237414' 'test_2021-03-01 02:30:02.237432'\n",
      " 'test_2021-03-01 02:30:02.237430' 'test_2021-03-01 02:30:02.237427'\n",
      " 'test_2021-03-01 02:30:02.237426' 'test_2021-03-01 02:30:02.237449'\n",
      " 'test_2021-03-01 02:30:02.237417' 'test_2021-03-01 02:30:02.237415'\n",
      " 'test_2021-03-01 02:30:02.237416' 'test_2021-03-01 02:30:02.237420'\n",
      " 'test_2021-03-01 02:30:02.237444' 'test_2021-03-01 02:30:02.237440'\n",
      " 'test_2021-03-01 02:30:02.237423' 'test_2021-03-01 02:30:02.237438'\n",
      " 'test_2021-03-01 02:30:02.237445' 'test_2021-03-01 02:30:02.237412'\n",
      " 'test_2021-03-01 02:30:02.237439' 'test_2021-03-01 02:30:02.237418'\n",
      " 'test_2021-03-01 02:30:02.237425' 'test_2021-03-01 02:30:02.237447'\n",
      " 'test_2021-03-01 02:30:02.237433' 'test_2021-03-01 02:30:02.237434'\n",
      " 'test_2021-03-01 02:30:02.237431' 'test_2021-03-01 02:30:02.237421']\n"
     ]
    }
   ],
   "source": [
    "print(df2['date'].unique())\n"
   ]
  },
  {
   "cell_type": "markdown",
   "id": "6695ab9c",
   "metadata": {},
   "source": [
    "Pour supprimer toutes les données issues des tests, on supprime toutes les sessions dont l'identifiant session vaut 's_0'. On crée donc une liste contenant les index des lignes avec l'identifiant de session s_0 puis on supprime les lignes associées à l'aide de la méthode .drop()."
   ]
  },
  {
   "cell_type": "code",
   "execution_count": 25,
   "id": "d0f73ae2",
   "metadata": {},
   "outputs": [],
   "source": [
    "#création d'une liste contenant les index avec l'identifiant de session s_0\n",
    "index_s_0 = df_transactions_products_client[df_transactions_products_client['session_id'] == 's_0'].index.values\n",
    "df_transactions_products_client.drop(index_s_0, 0, inplace=True)"
   ]
  },
  {
   "cell_type": "code",
   "execution_count": 26,
   "id": "a718581d",
   "metadata": {},
   "outputs": [
    {
     "data": {
      "text/html": [
       "<div>\n",
       "<style scoped>\n",
       "    .dataframe tbody tr th:only-of-type {\n",
       "        vertical-align: middle;\n",
       "    }\n",
       "\n",
       "    .dataframe tbody tr th {\n",
       "        vertical-align: top;\n",
       "    }\n",
       "\n",
       "    .dataframe thead th {\n",
       "        text-align: right;\n",
       "    }\n",
       "</style>\n",
       "<table border=\"1\" class=\"dataframe\">\n",
       "  <thead>\n",
       "    <tr style=\"text-align: right;\">\n",
       "      <th></th>\n",
       "      <th>client_id</th>\n",
       "      <th>sex</th>\n",
       "      <th>birth</th>\n",
       "      <th>id_prod</th>\n",
       "      <th>price</th>\n",
       "      <th>categ</th>\n",
       "      <th>date</th>\n",
       "      <th>session_id</th>\n",
       "    </tr>\n",
       "  </thead>\n",
       "  <tbody>\n",
       "  </tbody>\n",
       "</table>\n",
       "</div>"
      ],
      "text/plain": [
       "Empty DataFrame\n",
       "Columns: [client_id, sex, birth, id_prod, price, categ, date, session_id]\n",
       "Index: []"
      ]
     },
     "execution_count": 26,
     "metadata": {},
     "output_type": "execute_result"
    }
   ],
   "source": [
    "df_transactions_products_client.loc[df_transactions_products_client['session_id'] == 's_0']"
   ]
  },
  {
   "cell_type": "code",
   "execution_count": 27,
   "id": "b607322c",
   "metadata": {},
   "outputs": [
    {
     "data": {
      "text/plain": [
       "(8623, 3)"
      ]
     },
     "execution_count": 27,
     "metadata": {},
     "output_type": "execute_result"
    }
   ],
   "source": [
    "#taille\n",
    "client.shape"
   ]
  },
  {
   "cell_type": "code",
   "execution_count": 28,
   "id": "7be06859",
   "metadata": {},
   "outputs": [
    {
     "data": {
      "text/plain": [
       "(337016, 4)"
      ]
     },
     "execution_count": 28,
     "metadata": {},
     "output_type": "execute_result"
    }
   ],
   "source": [
    "transaction.shape"
   ]
  },
  {
   "cell_type": "code",
   "execution_count": 29,
   "id": "acc4999d",
   "metadata": {},
   "outputs": [
    {
     "data": {
      "text/plain": [
       "(336713, 8)"
      ]
     },
     "execution_count": 29,
     "metadata": {},
     "output_type": "execute_result"
    }
   ],
   "source": [
    "df_transactions_products_client.shape"
   ]
  },
  {
   "cell_type": "markdown",
   "id": "5af243f6",
   "metadata": {},
   "source": [
    "## Analyse des types"
   ]
  },
  {
   "cell_type": "code",
   "execution_count": 30,
   "id": "c0430f0a",
   "metadata": {},
   "outputs": [
    {
     "name": "stdout",
     "output_type": "stream",
     "text": [
      "client_id      object\n",
      "sex            object\n",
      "birth           int64\n",
      "id_prod        object\n",
      "price         float64\n",
      "categ           int64\n",
      "date           object\n",
      "session_id     object\n",
      "dtype: object\n"
     ]
    }
   ],
   "source": [
    "print(df_transactions_products_client.dtypes)"
   ]
  },
  {
   "cell_type": "markdown",
   "id": "40ce2c4e",
   "metadata": {},
   "source": [
    "On remarque que toutes les variables sont considérées comme des objets. On peut transformer la variable 'date' en type 'datetime'.\n",
    "\n",
    "La variable 'sex' apparaît comme un objet, il peut être plus intéressant de changer ce type en variable catégorielle."
   ]
  },
  {
   "cell_type": "code",
   "execution_count": 31,
   "id": "be73e275",
   "metadata": {},
   "outputs": [],
   "source": [
    "df_transactions_products_client['date'] = pd.to_datetime(df_transactions_products_client['date'])\n",
    "df_transactions_products_client['sex'] = df_transactions_products_client['sex'].astype('category')"
   ]
  },
  {
   "cell_type": "code",
   "execution_count": 32,
   "id": "e225a681",
   "metadata": {},
   "outputs": [
    {
     "data": {
      "text/plain": [
       "client_id             object\n",
       "sex                 category\n",
       "birth                  int64\n",
       "id_prod               object\n",
       "price                float64\n",
       "categ               category\n",
       "date          datetime64[ns]\n",
       "session_id            object\n",
       "dtype: object"
      ]
     },
     "execution_count": 32,
     "metadata": {},
     "output_type": "execute_result"
    }
   ],
   "source": [
    "#Il serait plus intéressant de modifier le type de la colonne 'categ' en une valeur catégorielle.\n",
    "df_transactions_products_client['categ'] = df_transactions_products_client['categ'].astype('category')\n",
    "df_transactions_products_client.dtypes"
   ]
  },
  {
   "cell_type": "code",
   "execution_count": 33,
   "id": "c57872a9",
   "metadata": {},
   "outputs": [
    {
     "name": "stdout",
     "output_type": "stream",
     "text": [
      "                           client_id sex  birth id_prod  price categ  \\\n",
      "date                                                                   \n",
      "2021-03-01 00:01:07.843138     c_329   f   1967  0_1259  11.99     0   \n",
      "2021-03-01 00:02:26.047414     c_664   m   1960  0_1390  19.37     0   \n",
      "2021-03-01 00:02:38.311413     c_580   m   1988  0_1352   4.50     0   \n",
      "2021-03-01 00:04:54.559692    c_7912   f   1989  0_1458   6.55     0   \n",
      "2021-03-01 00:05:18.801198    c_2033   f   1956  0_1358  16.49     0   \n",
      "\n",
      "                           session_id  \n",
      "date                                   \n",
      "2021-03-01 00:01:07.843138        s_1  \n",
      "2021-03-01 00:02:26.047414        s_2  \n",
      "2021-03-01 00:02:38.311413        s_3  \n",
      "2021-03-01 00:04:54.559692        s_4  \n",
      "2021-03-01 00:05:18.801198        s_5  \n"
     ]
    }
   ],
   "source": [
    "#Une fois cette transformation faite, il est plus simple d'organiser les données par ordre chronologique.\n",
    "df_transactions_products_client = df_transactions_products_client.sort_values('date')\n",
    "df_transactions_products_client = df_transactions_products_client.set_index('date')\n",
    "print(df_transactions_products_client.head())"
   ]
  },
  {
   "cell_type": "code",
   "execution_count": 34,
   "id": "e3b65749",
   "metadata": {},
   "outputs": [
    {
     "name": "stdout",
     "output_type": "stream",
     "text": [
      "                           client_id sex  birth id_prod  price categ  \\\n",
      "date                                                                   \n",
      "2021-03-01 00:01:07.843138     c_329   f   1967  0_1259  11.99     0   \n",
      "2021-09-30 13:32:32.789640    c_2298   m   1972   0_674  13.95     0   \n",
      "2021-09-30 13:33:14.103844    c_7714   f   1972  0_2029   3.99     0   \n",
      "2021-09-30 13:36:06.900756     c_441   f   1972  0_2291  12.99     0   \n",
      "2021-09-30 13:36:08.951808    c_7714   f   1972   0_699  18.99     0   \n",
      "...                              ...  ..    ...     ...    ...   ...   \n",
      "2022-02-06 09:16:52.981557    c_7533   f   2004   2_184  49.61     2   \n",
      "2021-08-30 15:55:35.071302    c_4381   m   2004   2_102  59.14     2   \n",
      "2021-05-04 14:14:05.187463    c_5382   f   1995   2_164  52.26     2   \n",
      "2021-11-13 04:13:13.607660    c_6528   m   2004   2_115  50.99     2   \n",
      "2021-04-20 03:55:49.505401     c_330   m   1953   2_207  50.99     2   \n",
      "\n",
      "                           session_id  \n",
      "date                                   \n",
      "2021-03-01 00:01:07.843138        s_1  \n",
      "2021-09-30 13:32:32.789640    s_97930  \n",
      "2021-09-30 13:33:14.103844    s_97943  \n",
      "2021-09-30 13:36:06.900756    s_97931  \n",
      "2021-09-30 13:36:08.951808    s_97943  \n",
      "...                               ...  \n",
      "2022-02-06 09:16:52.981557   s_160769  \n",
      "2021-08-30 15:55:35.071302    s_82743  \n",
      "2021-05-04 14:14:05.187463    s_29823  \n",
      "2021-11-13 04:13:13.607660   s_118859  \n",
      "2021-04-20 03:55:49.505401    s_23022  \n",
      "\n",
      "[336713 rows x 7 columns]\n"
     ]
    }
   ],
   "source": [
    "#On peut ainsi classer les produits par ordre de catégorie.\n",
    "df_transactions_products_client= df_transactions_products_client.sort_values('categ')\n",
    "print(df_transactions_products_client)"
   ]
  },
  {
   "cell_type": "code",
   "execution_count": 35,
   "id": "1b105b75",
   "metadata": {},
   "outputs": [
    {
     "data": {
      "text/html": [
       "<div>\n",
       "<style scoped>\n",
       "    .dataframe tbody tr th:only-of-type {\n",
       "        vertical-align: middle;\n",
       "    }\n",
       "\n",
       "    .dataframe tbody tr th {\n",
       "        vertical-align: top;\n",
       "    }\n",
       "\n",
       "    .dataframe thead th {\n",
       "        text-align: right;\n",
       "    }\n",
       "</style>\n",
       "<table border=\"1\" class=\"dataframe\">\n",
       "  <thead>\n",
       "    <tr style=\"text-align: right;\">\n",
       "      <th></th>\n",
       "      <th>date</th>\n",
       "      <th>client_id</th>\n",
       "      <th>sex</th>\n",
       "      <th>birth</th>\n",
       "      <th>id_prod</th>\n",
       "      <th>price</th>\n",
       "      <th>categ</th>\n",
       "      <th>session_id</th>\n",
       "    </tr>\n",
       "  </thead>\n",
       "  <tbody>\n",
       "    <tr>\n",
       "      <th>0</th>\n",
       "      <td>2021-03-01 00:01:07.843138</td>\n",
       "      <td>c_329</td>\n",
       "      <td>f</td>\n",
       "      <td>1967</td>\n",
       "      <td>0_1259</td>\n",
       "      <td>11.99</td>\n",
       "      <td>0</td>\n",
       "      <td>s_1</td>\n",
       "    </tr>\n",
       "    <tr>\n",
       "      <th>1</th>\n",
       "      <td>2021-09-30 13:32:32.789640</td>\n",
       "      <td>c_2298</td>\n",
       "      <td>m</td>\n",
       "      <td>1972</td>\n",
       "      <td>0_674</td>\n",
       "      <td>13.95</td>\n",
       "      <td>0</td>\n",
       "      <td>s_97930</td>\n",
       "    </tr>\n",
       "    <tr>\n",
       "      <th>2</th>\n",
       "      <td>2021-09-30 13:33:14.103844</td>\n",
       "      <td>c_7714</td>\n",
       "      <td>f</td>\n",
       "      <td>1972</td>\n",
       "      <td>0_2029</td>\n",
       "      <td>3.99</td>\n",
       "      <td>0</td>\n",
       "      <td>s_97943</td>\n",
       "    </tr>\n",
       "    <tr>\n",
       "      <th>3</th>\n",
       "      <td>2021-09-30 13:36:06.900756</td>\n",
       "      <td>c_441</td>\n",
       "      <td>f</td>\n",
       "      <td>1972</td>\n",
       "      <td>0_2291</td>\n",
       "      <td>12.99</td>\n",
       "      <td>0</td>\n",
       "      <td>s_97931</td>\n",
       "    </tr>\n",
       "    <tr>\n",
       "      <th>4</th>\n",
       "      <td>2021-09-30 13:36:08.951808</td>\n",
       "      <td>c_7714</td>\n",
       "      <td>f</td>\n",
       "      <td>1972</td>\n",
       "      <td>0_699</td>\n",
       "      <td>18.99</td>\n",
       "      <td>0</td>\n",
       "      <td>s_97943</td>\n",
       "    </tr>\n",
       "  </tbody>\n",
       "</table>\n",
       "</div>"
      ],
      "text/plain": [
       "                        date client_id sex  birth id_prod  price categ  \\\n",
       "0 2021-03-01 00:01:07.843138     c_329   f   1967  0_1259  11.99     0   \n",
       "1 2021-09-30 13:32:32.789640    c_2298   m   1972   0_674  13.95     0   \n",
       "2 2021-09-30 13:33:14.103844    c_7714   f   1972  0_2029   3.99     0   \n",
       "3 2021-09-30 13:36:06.900756     c_441   f   1972  0_2291  12.99     0   \n",
       "4 2021-09-30 13:36:08.951808    c_7714   f   1972   0_699  18.99     0   \n",
       "\n",
       "  session_id  \n",
       "0        s_1  \n",
       "1    s_97930  \n",
       "2    s_97943  \n",
       "3    s_97931  \n",
       "4    s_97943  "
      ]
     },
     "execution_count": 35,
     "metadata": {},
     "output_type": "execute_result"
    }
   ],
   "source": [
    "# Reset les index pour pas les dupliquer et rename_axis pour éviter que les noms de colonnes soient au dessus des autres.\n",
    "df_transactions_products_client.rename_axis(None,axis=1)\n",
    "df_transactions_products_client.reset_index(inplace= True)\n",
    "df_transactions_products_client.head()"
   ]
  },
  {
   "cell_type": "markdown",
   "id": "5698b3bd",
   "metadata": {},
   "source": [
    "## Enregistrements de fichiers nettoyé"
   ]
  },
  {
   "cell_type": "code",
   "execution_count": 36,
   "id": "150ea6f9",
   "metadata": {},
   "outputs": [],
   "source": [
    "#Une fois le nettoyage des fichiers terminés, on les enregistre en nouveau fichier csv pour l'étape d'analyse qui suit cette partie\n",
    "df_transactions_products_client.to_csv(\"transactions_products_client.csv\",index = False)"
   ]
  },
  {
   "cell_type": "code",
   "execution_count": null,
   "id": "e95d2752",
   "metadata": {},
   "outputs": [],
   "source": []
  },
  {
   "cell_type": "code",
   "execution_count": null,
   "id": "7e69de5d",
   "metadata": {},
   "outputs": [],
   "source": []
  }
 ],
 "metadata": {
  "kernelspec": {
   "display_name": "Python 3",
   "language": "python",
   "name": "python3"
  },
  "language_info": {
   "codemirror_mode": {
    "name": "ipython",
    "version": 3
   },
   "file_extension": ".py",
   "mimetype": "text/x-python",
   "name": "python",
   "nbconvert_exporter": "python",
   "pygments_lexer": "ipython3",
   "version": "3.8.8"
  }
 },
 "nbformat": 4,
 "nbformat_minor": 5
}
